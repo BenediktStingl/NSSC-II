{
 "cells": [
  {
   "cell_type": "code",
   "execution_count": 1,
   "metadata": {},
   "outputs": [],
   "source": [
    "import numpy as np\n",
    "import scipy.optimize as optimize\n",
    "import matplotlib.pyplot as plt\n",
    "\n",
    "def LJ(r):\n",
    "    sig = 2**(-1/6)\n",
    "    return 4*((sig/r)**12 - (sig/r)**6)\n",
    "\n",
    "def Epot(param):\n",
    "    pot = 0.\n",
    "    for i in range(0,len(param)-1, 3):\n",
    "        for j in range(i+3,len(param), 3):\n",
    "            r = np.sqrt((param[i]-param[j])**2+(param[i+1]-param[j+1])**2+(param[i+2]-param[j+2])**2)\n",
    "            pot += LJ(r)\n",
    "    return pot\n",
    "\n",
    "def Epot2D(param):\n",
    "    pot = 0.\n",
    "    for i in range(0,len(param)-1, 2):\n",
    "        for j in range(i+2,len(param), 2):\n",
    "            r = np.sqrt((param[i]-param[j])**2+(param[i+1]-param[j+1])**2)\n",
    "            pot += LJ(r)\n",
    "    return pot"
   ]
  },
  {
   "cell_type": "code",
   "execution_count": 2,
   "metadata": {},
   "outputs": [
    {
     "data": {
      "image/png": "[encoded data removed]",
      "text/plain": [
       "<Figure size 432x288 with 1 Axes>"
      ]
     },
     "metadata": {
      "needs_background": "light"
     },
     "output_type": "display_data"
    }
   ],
   "source": [
    "### plot potential function ###\n",
    "x = np.arange(0.87, 3, 0.005)\n",
    "\n",
    "plt.plot(x, LJ(x))\n",
    "\n",
    "plt.grid()\n",
    "plt.box(False)\n",
    "plt.show()\n",
    "#--> local minimum at r=1"
   ]
  },
  {
   "cell_type": "code",
   "execution_count": 3,
   "metadata": {},
   "outputs": [],
   "source": [
    "### input variables ###\n",
    "dims = 2 #2D or 3D\n",
    "M = 20 #number of atoms\n",
    "L = M/0.8 #length of box\n",
    "SIG = 1 #standard deviation"
   ]
  },
  {
   "cell_type": "code",
   "execution_count": 4,
   "metadata": {},
   "outputs": [
    {
     "name": "stdout",
     "output_type": "stream",
     "text": [
      "coords: \n",
      " [[ 9.36350297 23.76785766]\n",
      " [18.29984855 14.9664621 ]\n",
      " [ 3.90046601  3.89986301]\n",
      " [ 1.4520903  21.65440364]\n",
      " [15.02787529 17.70181444]\n",
      " [ 0.51461236 24.2477463 ]\n",
      " [20.81106602  5.30847777]\n",
      " [ 4.54562418  4.58511275]\n",
      " [ 7.60605607 13.11891079]\n",
      " [10.79862547  7.2807285 ]\n",
      " [15.29632237  3.48734652]\n",
      " [ 7.30361621  9.15904608]\n",
      " [11.40174961 19.62939903]\n",
      " [ 4.99184455 12.85586096]\n",
      " [14.81036422  1.16126032]\n",
      " [15.1886213   4.26310309]\n",
      " [ 1.62628982 23.72213843]\n",
      " [24.14080083 20.2099337 ]\n",
      " [ 7.61534423  2.44180285]\n",
      " [17.10582566 11.00381234]]\n",
      "potential random state:  8.752188707244597 \n",
      "\n",
      "potential minimum:  -19.101966278919463\n",
      "new positions:  [11.024959   21.25136695 16.5637314  14.3024851   5.86663738  6.04481504\n",
      "  1.19754777 22.61207362 12.73087879 19.19246026  0.83476329 23.54378614\n",
      " 16.90381166  4.34985583  6.56890956  6.75696913  7.45294321  9.41047725\n",
      "  6.95608903  7.67626291 16.54398724  3.41512283  7.70054683  8.40327238\n",
      " 13.35635559 18.41217619  6.70785542  8.68372457 15.5515392   3.27520592\n",
      " 15.91658239  4.20157031  1.82288172 23.39266172 24.06026975 20.15561469\n",
      "  6.8335441   5.79117137 17.01881589 13.39978895] \n",
      "\n"
     ]
    }
   ],
   "source": [
    "### create random coordinates ###\n",
    "### uncomment for integers as starting conditions ###\n",
    "#rng = np.random.default_rng(seed=42) #create RNG with seed\n",
    "#coords = rng.integers(low=0, high=L, size=(M,dims)) #get random coordinates within the domain (integers)\n",
    "\n",
    "### uncomment for floats as starting conditions ###\n",
    "np.random.seed(42) #create RNG with seed\n",
    "coords = L*np.random.rand(M,dims) #get random coordinates within the domain (floats)\n",
    "    \n",
    "print(\"coords: \\n\", coords)\n",
    "if dims == 3:\n",
    "    print(\"potential random state: \", Epot(np.ndarray.flatten(coords)), \"\\n\")\n",
    "    result = optimize.minimize(Epot, coords, method=\"CG\")\n",
    "elif dims == 2:\n",
    "    print(\"potential random state: \", Epot2D(np.ndarray.flatten(coords)), \"\\n\")\n",
    "    result = optimize.minimize(Epot2D, coords, method=\"CG\")\n",
    "else:\n",
    "    print(\"RECOMMEND OTHER DIMENSIONAL INPUT\")\n",
    "    \n",
    "### find minimum potential ###\n",
    "print(\"potential minimum: \", result.fun)\n",
    "print(\"new positions: \", result.x, \"\\n\")"
   ]
  },
  {
   "cell_type": "code",
   "execution_count": 5,
   "metadata": {},
   "outputs": [
    {
     "name": "stdout",
     "output_type": "stream",
     "text": [
      "velocities: \n",
      " [[-0.01349722 -1.05771093]\n",
      " [ 0.82254491 -1.22084365]\n",
      " [ 0.2088636  -1.95967012]\n",
      " [-1.32818605  0.19686124]\n",
      " [ 0.73846658  0.17136828]\n",
      " [-0.11564828 -0.3011037 ]\n",
      " [-1.47852199 -0.71984421]\n",
      " [-0.46063877  1.05712223]\n",
      " [ 0.34361829 -1.76304016]\n",
      " [ 0.32408397 -0.38508228]\n",
      " [-0.676922    0.61167629]\n",
      " [ 1.03099952  0.93128012]\n",
      " [-0.83921752 -0.30921238]\n",
      " [ 0.33126343  0.97554513]\n",
      " [-0.47917424 -0.18565898]\n",
      " [-1.10633497 -1.19620662]\n",
      " [ 0.81252582  1.35624003]\n",
      " [-0.07201012  1.0035329 ]\n",
      " [ 0.36163603 -0.64511975]\n",
      " [ 0.36139561  1.53803657]]\n",
      "mean velocity:  [-0.06173767 -0.0950915 ]\n",
      "corrected velocities: \n",
      " [[ 0.04824045 -0.96261943]\n",
      " [ 0.88428258 -1.12575215]\n",
      " [ 0.27060127 -1.86457862]\n",
      " [-1.26644838  0.29195274]\n",
      " [ 0.80020425  0.26645978]\n",
      " [-0.05391061 -0.2060122 ]\n",
      " [-1.41678432 -0.62475271]\n",
      " [-0.3989011   1.15221373]\n",
      " [ 0.40535596 -1.66794866]\n",
      " [ 0.38582164 -0.28999078]\n",
      " [-0.61518433  0.70676779]\n",
      " [ 1.09273719  1.02637162]\n",
      " [-0.77747985 -0.21412088]\n",
      " [ 0.3930011   1.07063663]\n",
      " [-0.41743657 -0.09056748]\n",
      " [-1.0445973  -1.10111512]\n",
      " [ 0.87426349  1.45133153]\n",
      " [-0.01027245  1.0986244 ]\n",
      " [ 0.4233737  -0.55002825]\n",
      " [ 0.42313328  1.63312807]]\n"
     ]
    }
   ],
   "source": [
    "### create random velocities ###\n",
    "SIG_mat = SIG * np.eye(dims)\n",
    "mean = np.zeros(dims)\n",
    "vels = np.random.multivariate_normal(mean, SIG_mat, size=M)\n",
    "print(\"velocities: \\n\", vels)\n",
    "\n",
    "### calculate mean velocity ###\n",
    "mean_vels=np.mean(vels, axis=0)\n",
    "print(\"mean velocity: \", mean_vels)\n",
    "\n",
    "### update velocities ###\n",
    "vels = vels - mean_vels\n",
    "print(\"corrected velocities: \\n\", vels)"
   ]
  },
  {
   "cell_type": "code",
   "execution_count": 6,
   "metadata": {
    "scrolled": false
   },
   "outputs": [
    {
     "data": {
      "image/png": "[encoded data removed]",
      "text/plain": [
       "<Figure size 432x288 with 1 Axes>"
      ]
     },
     "metadata": {
      "needs_background": "light"
     },
     "output_type": "display_data"
    },
    {
     "name": "stdout",
     "output_type": "stream",
     "text": [
      "\n",
      " 20\n",
      "This is a comment\n",
      "25.0\n",
      "11.024958999906696 21.251366952430246 0.048240446331850956 -0.9626194288316843\n",
      "16.56373139765752 14.302485098097732 0.8842825831729739 -1.1257521498468062\n",
      "5.8666373769201305 6.044815043038273 0.27060126607454027 -1.8645786237555595\n",
      "1.1975477706964712 22.612073616451404 -1.2664483778286457 0.2919527359933396\n",
      "12.73087878507115 19.192460262218656 0.8002042510651953 0.2664597813141866\n",
      "0.8347632892130632 23.543786142293225 -0.053910611318455655 -0.20601219546507274\n",
      "16.903811659266985 4.349855825777851 -1.4167843192976426 -0.6247527082704926\n",
      "6.568909564287793 6.7569691303259765 -0.3989010998900026 1.1522137263431318\n",
      "7.452943211686396 9.410477253378307 0.4053559606382463 -1.6679486552385179\n",
      "6.95608903309997 7.67626291433145 0.3858216404645799 -0.28999078029210046\n",
      "16.543987242494595 3.4151228313791093 -0.6151843292361738 0.706767788965084\n",
      "7.70054683320769 8.403272384009805 1.0927371935657357 1.0263716192404146\n",
      "13.356355587498783 18.412176190786393 -0.7774798521528536 -0.21412087572699853\n",
      "6.707855415290169 8.683724570077372 0.39300110247334885 1.0706366272465753\n",
      "15.551539199695167 3.2752059194188177 -0.41743656677550506 -0.09056747653960107\n",
      "15.916582388624226 4.201570305511161 -1.0445973029362434 -1.1011151239564547\n",
      "1.8228817225963405 23.392661721011585 0.8742634934639829 1.451331528695039\n",
      "24.060269746057063 20.155614692772744 -0.010272450510548974 1.0986243980162402\n",
      "6.833544099376313 5.791171374174342 0.42337369611741904 -0.5500282544809082\n",
      "17.018815891987416 13.399788952991758 0.4231332765781988 1.6331280665901853\n",
      "\n"
     ]
    }
   ],
   "source": [
    "### write results into file ###\n",
    "f = open(\"results.txt\", \"w\") #overwrites or creates a new file\n",
    "\n",
    "filestring = f\"\"\"{M}\n",
    "This is a comment\n",
    "{L}\\n\"\"\"\n",
    "\n",
    "### plot initial random state (only 2D) ###\n",
    "if dims == 2:\n",
    "    for n, c in enumerate(coords):\n",
    "        if n == 0:\n",
    "            plt.scatter(c[0], c[1], color=\"k\", label=\"rnd initial state\")\n",
    "        else:\n",
    "            plt.scatter(c[0], c[1], color=\"k\")\n",
    "else:\n",
    "    pass\n",
    "\n",
    "for k in range(0, len(result.x), dims):\n",
    "    if dims == 3:\n",
    "        x, y, z = result.x[k], result.x[k+1], result.x[k+2]\n",
    "        vx, vy, vz = vels[k//dims]  ### check if that works!\n",
    "        filestring += f\"{x} {y} {z} {vx} {vy} {vz}\\n\"\n",
    "    elif dims == 2:\n",
    "        x, y = result.x[k], result.x[k+1]\n",
    "        vx, vy = vels[k//dims]\n",
    "        filestring += f\"{x} {y} {vx} {vy}\\n\"\n",
    "    \n",
    "    if k == 0 and dims == 2:\n",
    "        plt.scatter(x, y, color=\"r\", label=\"minimum state\") #label in plot\n",
    "    elif k != 0 and dims == 2:\n",
    "        plt.scatter(x, y, color=\"r\")\n",
    "    else:\n",
    "        pass #only for dims neq 2\n",
    "\n",
    "    \n",
    "f.write(filestring)\n",
    "f.close()\n",
    "\n",
    "if dims == 2:\n",
    "    plt.legend()\n",
    "    plt.show()\n",
    "else:\n",
    "    pass\n",
    "\n",
    "print(\"\\n\", filestring)"
   ]
  },
  {
   "cell_type": "code",
   "execution_count": null,
   "metadata": {},
   "outputs": [],
   "source": []
  }
 ],
 "metadata": {
  "kernelspec": {
   "display_name": "Python 3",
   "language": "python",
   "name": "python3"
  },
  "language_info": {
   "codemirror_mode": {
    "name": "ipython",
    "version": 3
   },
   "file_extension": ".py",
   "mimetype": "text/x-python",
   "name": "python",
   "nbconvert_exporter": "python",
   "pygments_lexer": "ipython3",
   "version": "3.8.5"
  }
 },
 "nbformat": 4,
 "nbformat_minor": 4
}
